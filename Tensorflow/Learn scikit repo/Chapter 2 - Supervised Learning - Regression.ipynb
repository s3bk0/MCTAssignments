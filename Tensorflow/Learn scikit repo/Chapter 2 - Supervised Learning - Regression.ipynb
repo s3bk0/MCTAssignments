{
 "metadata": {
  "name": ""
 },
 "nbformat": 3,
 "nbformat_minor": 0,
 "worksheets": [
  {
   "cells": [
    {
     "cell_type": "heading",
     "level": 1,
     "metadata": {},
     "source": [
      "Learning Scikit-learn: Machine Learning in Python"
     ]
    },
    {
     "cell_type": "heading",
     "level": 2,
     "metadata": {},
     "source": [
      "Notebook for Chapter 2: Supervised Learning - Estimating Boston house pricing using Linear Regression"
     ]
    },
    {
     "cell_type": "code",
     "collapsed": false,
     "input": [
      "%pylab inline"
     ],
     "language": "python",
     "metadata": {},
     "outputs": [
      {
       "output_type": "stream",
       "stream": "stdout",
       "text": [
        "Populating the interactive namespace from numpy and matplotlib\n"
       ]
      }
     ],
     "prompt_number": 1
    },
    {
     "cell_type": "markdown",
     "metadata": {},
     "source": [
      "We want to solve a *regression* problem (we want to approximate a real function)"
     ]
    },
    {
     "cell_type": "code",
     "collapsed": false,
     "input": [
      "import numpy as np\n",
      "import matplotlib.pyplot as plt"
     ],
     "language": "python",
     "metadata": {},
     "outputs": [],
     "prompt_number": 2
    },
    {
     "cell_type": "markdown",
     "metadata": {},
     "source": [
      "Import the Boston House Pricing Dataset"
     ]
    },
    {
     "cell_type": "code",
     "collapsed": false,
     "input": [
      "from sklearn.datasets import load_boston\n",
      "boston = load_boston()\n",
      "print boston.data.shape\n",
      "print boston.feature_names\n",
      "print np.max(boston.target), np.min(boston.target), np.mean(boston.target)\n",
      "print boston.DESCR"
     ],
     "language": "python",
     "metadata": {},
     "outputs": [
      {
       "output_type": "stream",
       "stream": "stdout",
       "text": [
        "(506, 13)\n",
        "['CRIM' 'ZN' 'INDUS' 'CHAS' 'NOX' 'RM' 'AGE' 'DIS' 'RAD' 'TAX' 'PTRATIO'\n",
        " 'B' 'LSTAT' 'MEDV']\n",
        "50.0 5.0 22.5328063241\n",
        "Boston House Prices dataset\n",
        "\n",
        "Notes\n",
        "------\n",
        "Data Set Characteristics:  \n",
        "\n",
        "    :Number of Instances: 506 \n",
        "\n",
        "    :Number of Attributes: 13 numeric/categorical predictive\n",
        "    \n",
        "    :Median Value (attribute 14) is usually the target\n",
        "\n",
        "    :Attribute Information (in order):\n",
        "        - CRIM     per capita crime rate by town\n",
        "        - ZN       proportion of residential land zoned for lots over 25,000 sq.ft.\n",
        "        - INDUS    proportion of non-retail business acres per town\n",
        "        - CHAS     Charles River dummy variable (= 1 if tract bounds river; 0 otherwise)\n",
        "        - NOX      nitric oxides concentration (parts per 10 million)\n",
        "        - RM       average number of rooms per dwelling\n",
        "        - AGE      proportion of owner-occupied units built prior to 1940\n",
        "        - DIS      weighted distances to five Boston employment centres\n",
        "        - RAD      index of accessibility to radial highways\n",
        "        - TAX      full-value property-tax rate per $10,000\n",
        "        - PTRATIO  pupil-teacher ratio by town\n",
        "        - B        1000(Bk - 0.63)^2 where Bk is the proportion of blacks by town\n",
        "        - LSTAT    % lower status of the population\n",
        "        - MEDV     Median value of owner-occupied homes in $1000's\n",
        "\n",
        "    :Missing Attribute Values: None\n",
        "\n",
        "    :Creator: Harrison, D. and Rubinfeld, D.L.\n",
        "\n",
        "This is a copy of UCI ML housing dataset.\n",
        "http://archive.ics.uci.edu/ml/datasets/Housing\n",
        "\n",
        "\n",
        "This dataset was taken from the StatLib library which is maintained at Carnegie Mellon University.\n",
        "\n",
        "The Boston house-price data of Harrison, D. and Rubinfeld, D.L. 'Hedonic\n",
        "prices and the demand for clean air', J. Environ. Economics & Management,\n",
        "vol.5, 81-102, 1978.   Used in Belsley, Kuh & Welsch, 'Regression diagnostics\n",
        "...', Wiley, 1980.   N.B. Various transformations are used in the table on\n",
        "pages 244-261 of the latter.\n",
        "\n",
        "The Boston house-price data has been used in many machine learning papers that address regression\n",
        "problems.   \n",
        "     \n",
        "**References**\n",
        "\n",
        "   - Belsley, Kuh & Welsch, 'Regression diagnostics: Identifying Influential Data and Sources of Collinearity', Wiley, 1980. 244-261.\n",
        "   - Quinlan,R. (1993). Combining Instance-Based and Model-Based Learning. In Proceedings on the Tenth International Conference of Machine Learning, 236-243, University of Massachusetts, Amherst. Morgan Kaufmann.\n",
        "   - many more! (see http://archive.ics.uci.edu/ml/datasets/Housing)\n",
        "\n"
       ]
      }
     ],
     "prompt_number": 3
    },
    {
     "cell_type": "code",
     "collapsed": false,
     "input": [
      "print boston.data[0]\n",
      "print np.max(boston.data), np.min(boston.data), np.mean(boston.data)"
     ],
     "language": "python",
     "metadata": {},
     "outputs": [
      {
       "output_type": "stream",
       "stream": "stdout",
       "text": [
        "[  6.32000000e-03   1.80000000e+01   2.31000000e+00   0.00000000e+00\n",
        "   5.38000000e-01   6.57500000e+00   6.52000000e+01   4.09000000e+00\n",
        "   1.00000000e+00   2.96000000e+02   1.53000000e+01   3.96900000e+02\n",
        "   4.98000000e+00]\n",
        "711.0 0.0 70.0724468258\n"
       ]
      }
     ],
     "prompt_number": 4
    },
    {
     "cell_type": "markdown",
     "metadata": {},
     "source": [
      "Separate train and test"
     ]
    },
    {
     "cell_type": "code",
     "collapsed": false,
     "input": [
      "from sklearn.cross_validation import train_test_split\n",
      "X_train, X_test, y_train, y_test = train_test_split(boston.data, boston.target, test_size=0.25, random_state=33)"
     ],
     "language": "python",
     "metadata": {},
     "outputs": [],
     "prompt_number": 5
    },
    {
     "cell_type": "markdown",
     "metadata": {},
     "source": [
      "Find the most important features"
     ]
    },
    {
     "cell_type": "code",
     "collapsed": false,
     "input": [
      "from sklearn.feature_selection import *\n",
      "fs=SelectKBest(score_func=f_regression,k=5)\n",
      "X_new=fs.fit_transform(X_train,y_train)\n",
      "print zip(fs.get_support(),boston.feature_names)\n",
      "\n",
      "x_min, x_max = X_new[:,0].min() - .5, X_new[:, 0].max() + .5\n",
      "y_min, y_max = y_train.min() - .5, y_train.max() + .5\n",
      "#fig=plt.figure()\n",
      "#fig.subplots_adjust(left=0, right=1, bottom=0, top=1, hspace=0.05, wspace=0.05)\n",
      "\n",
      "# Two subplots, unpack the axes array immediately\n",
      "fig, axes = plt.subplots(1,5)\n",
      "fig.set_size_inches(12,12)\n",
      "\n",
      "for i in range(5):\n",
      "    axes[i].set_aspect('equal')\n",
      "    axes[i].set_title('Feature ' + str(i))\n",
      "    axes[i].set_xlabel('Feature')\n",
      "    axes[i].set_ylabel('Median house value')\n",
      "    axes[i].set_xlim(x_min, x_max)\n",
      "    axes[i].set_ylim(y_min, y_max)\n",
      "    sca(axes[i])\n",
      "    plt.scatter(X_new[:,i],y_train)\n"
     ],
     "language": "python",
     "metadata": {},
     "outputs": [
      {
       "output_type": "stream",
       "stream": "stdout",
       "text": [
        "[(False, 'CRIM'), (False, 'ZN'), (True, 'INDUS'), (False, 'CHAS'), (False, 'NOX'), (True, 'RM'), (False, 'AGE'), (False, 'DIS'), (False, 'RAD'), (True, 'TAX'), (True, 'PTRATIO'), (False, 'B'), (True, 'LSTAT')]\n"
       ]
      },
      {
       "metadata": {},
       "output_type": "display_data",
       "png": "[encoded data removed]",
       "text": [
        "<matplotlib.figure.Figure at 0x3e95cd0>"
       ]
      }
     ],
     "prompt_number": 6
    },
    {
     "cell_type": "markdown",
     "metadata": {},
     "source": [
      "Normalize data"
     ]
    },
    {
     "cell_type": "code",
     "collapsed": false,
     "input": [
      "from sklearn.preprocessing import StandardScaler\n",
      "scalerX = StandardScaler().fit(X_train)\n",
      "scalery = StandardScaler().fit(y_train)\n",
      "\n",
      "X_train = scalerX.transform(X_train)\n",
      "y_train = scalery.transform(y_train)\n",
      "X_test = scalerX.transform(X_test)\n",
      "y_test = scalery.transform(y_test)\n",
      "\n",
      "print np.max(X_train), np.min(X_train), np.mean(X_train), np.max(y_train), np.min(y_train), np.mean(y_train)\n"
     ],
     "language": "python",
     "metadata": {},
     "outputs": [
      {
       "output_type": "stream",
       "stream": "stdout",
       "text": [
        "10.2028980046 -4.66702040845 2.40553579807e-15 2.91774920367 -1.93147098641 -1.16236542525e-15\n"
       ]
      }
     ],
     "prompt_number": 7
    },
    {
     "cell_type": "markdown",
     "metadata": {},
     "source": [
      "Start with a lineal model, SGDRegressor, that tries to find the hyperplane that minimizes a certain loss function (typically, the sum of squared distances from each instance to the hyperplane). It uses Stochastic Gradient Descent to find the minimum. "
     ]
    },
    {
     "cell_type": "code",
     "collapsed": false,
     "input": [
      "from sklearn.cross_validation import *\n",
      "def train_and_evaluate(clf, X_train, y_train):\n",
      "    \n",
      "    clf.fit(X_train, y_train)\n",
      "    \n",
      "    print \"Coefficient of determination on training set:\",clf.score(X_train, y_train)\n",
      "    \n",
      "    # create a k-fold croos validation iterator of k=5 folds\n",
      "    cv = KFold(X_train.shape[0], 5, shuffle=True, random_state=33)\n",
      "    scores = cross_val_score(clf, X_train, y_train, cv=cv)\n",
      "    print \"Average coefficient of determination using 5-fold crossvalidation:\",np.mean(scores)"
     ],
     "language": "python",
     "metadata": {},
     "outputs": [],
     "prompt_number": 8
    },
    {
     "cell_type": "code",
     "collapsed": false,
     "input": [
      "from sklearn import linear_model\n",
      "clf_sgd = linear_model.SGDRegressor(loss='squared_loss', penalty=None,  random_state=42)\n",
      "train_and_evaluate(clf_sgd,X_train,y_train)\n",
      "print clf_sgd.coef_"
     ],
     "language": "python",
     "metadata": {},
     "outputs": [
      {
       "output_type": "stream",
       "stream": "stdout",
       "text": [
        "Coefficient of determination on training set: 0.743303511411\n",
        "Average coefficient of determination using 5-fold crossvalidation: 0.707860049111\n",
        "[-0.07641527  0.06963738 -0.05935062  0.10878438 -0.06356188  0.37260998\n",
        " -0.02912886 -0.20180631  0.08463607 -0.05534634 -0.19521922  0.0653966\n",
        " -0.36990842]\n"
       ]
      }
     ],
     "prompt_number": 9
    },
    {
     "cell_type": "code",
     "collapsed": false,
     "input": [
      "clf_sgd1 = linear_model.SGDRegressor(loss='squared_loss', penalty='l2',  random_state=42)\n",
      "train_and_evaluate(clf_sgd1,X_train,y_train)"
     ],
     "language": "python",
     "metadata": {},
     "outputs": [
      {
       "output_type": "stream",
       "stream": "stdout",
       "text": [
        "Coefficient of determination on training set: 0.743300618503\n",
        "Average coefficient of determination using 5-fold crossvalidation: 0.707861811562\n"
       ]
      }
     ],
     "prompt_number": 10
    },
    {
     "cell_type": "code",
     "collapsed": false,
     "input": [
      "clf_sgd2 = linear_model.SGDRegressor(loss='squared_loss', penalty='l1',  random_state=42)\n",
      "train_and_evaluate(clf_sgd2,X_train,y_train)"
     ],
     "language": "python",
     "metadata": {},
     "outputs": [
      {
       "output_type": "stream",
       "stream": "stdout",
       "text": [
        "Coefficient of determination on training set: 0.743264854792\n",
        "Average coefficient of determination using 5-fold crossvalidation: 0.707816829362\n"
       ]
      }
     ],
     "prompt_number": 11
    },
    {
     "cell_type": "code",
     "collapsed": false,
     "input": [
      "clf_sgd3 = linear_model.SGDRegressor(loss='squared_loss', penalty='elasticnet',  random_state=42)\n",
      "train_and_evaluate(clf_sgd3,X_train,y_train)"
     ],
     "language": "python",
     "metadata": {},
     "outputs": [
      {
       "output_type": "stream",
       "stream": "stdout",
       "text": [
        "Coefficient of determination on training set: 0.743270230372\n",
        "Average coefficient of determination using 5-fold crossvalidation: 0.707823590553\n"
       ]
      }
     ],
     "prompt_number": 12
    },
    {
     "cell_type": "markdown",
     "metadata": {},
     "source": [
      "Ridge regression"
     ]
    },
    {
     "cell_type": "code",
     "collapsed": false,
     "input": [
      "clf_ridge = linear_model.Ridge()\n",
      "train_and_evaluate(clf_ridge,X_train,y_train)"
     ],
     "language": "python",
     "metadata": {},
     "outputs": [
      {
       "output_type": "stream",
       "stream": "stdout",
       "text": [
        "Coefficient of determination on training set: 0.754904554125\n",
        "Average coefficient of determination using 5-fold crossvalidation: 0.714014174328\n"
       ]
      }
     ],
     "prompt_number": 13
    },
    {
     "cell_type": "markdown",
     "metadata": {},
     "source": [
      "SVR"
     ]
    },
    {
     "cell_type": "code",
     "collapsed": false,
     "input": [
      "from sklearn import svm\n",
      "clf_svr= svm.SVR(kernel='linear')\n",
      "train_and_evaluate(clf_svr,X_train,y_train)"
     ],
     "language": "python",
     "metadata": {},
     "outputs": [
      {
       "output_type": "stream",
       "stream": "stdout",
       "text": [
        "Coefficient of determination on training set: 0.71886923342\n",
        "Average coefficient of determination using 5-fold crossvalidation:"
       ]
      },
      {
       "output_type": "stream",
       "stream": "stdout",
       "text": [
        " 0.707838419194\n"
       ]
      }
     ],
     "prompt_number": 14
    },
    {
     "cell_type": "code",
     "collapsed": false,
     "input": [
      "clf_svr_poly= svm.SVR(kernel='poly')\n",
      "train_and_evaluate(clf_svr_poly,X_train,y_train)"
     ],
     "language": "python",
     "metadata": {},
     "outputs": [
      {
       "output_type": "stream",
       "stream": "stdout",
       "text": [
        "Coefficient of determination on training set: 0.904109273301\n",
        "Average coefficient of determination using 5-fold crossvalidation:"
       ]
      },
      {
       "output_type": "stream",
       "stream": "stdout",
       "text": [
        " 0.779288545488\n"
       ]
      }
     ],
     "prompt_number": 15
    },
    {
     "cell_type": "code",
     "collapsed": false,
     "input": [
      "clf_svr_rbf= svm.SVR(kernel='rbf')\n",
      "train_and_evaluate(clf_svr_rbf,X_train,y_train)"
     ],
     "language": "python",
     "metadata": {},
     "outputs": [
      {
       "output_type": "stream",
       "stream": "stdout",
       "text": [
        "Coefficient of determination on training set: 0.900132065979\n",
        "Average coefficient of determination using 5-fold crossvalidation:"
       ]
      },
      {
       "output_type": "stream",
       "stream": "stdout",
       "text": [
        " 0.833648350263\n"
       ]
      }
     ],
     "prompt_number": 16
    },
    {
     "cell_type": "code",
     "collapsed": false,
     "input": [
      "clf_svr_poly2= svm.SVR(kernel='poly',degree=2)\n",
      "train_and_evaluate(clf_svr_poly2,X_train,y_train)"
     ],
     "language": "python",
     "metadata": {},
     "outputs": [
      {
       "output_type": "stream",
       "stream": "stdout",
       "text": [
        "Coefficient of determination on training set: 0.715338649791\n",
        "Average coefficient of determination using 5-fold crossvalidation:"
       ]
      },
      {
       "output_type": "stream",
       "stream": "stdout",
       "text": [
        " 0.609837490871\n"
       ]
      }
     ],
     "prompt_number": 17
    },
    {
     "cell_type": "markdown",
     "metadata": {},
     "source": [
      "Finally, let's try again Random Forests, in their Extra Trees, and Regression version"
     ]
    },
    {
     "cell_type": "code",
     "collapsed": false,
     "input": [
      "from sklearn import ensemble\n",
      "clf_et=ensemble.ExtraTreesRegressor(n_estimators=10,random_state=42)\n",
      "train_and_evaluate(clf_et,X_train,y_train)"
     ],
     "language": "python",
     "metadata": {},
     "outputs": [
      {
       "output_type": "stream",
       "stream": "stdout",
       "text": [
        "Coefficient of determination on training set: 1.0\n",
        "Average coefficient of determination using 5-fold crossvalidation:"
       ]
      },
      {
       "output_type": "stream",
       "stream": "stdout",
       "text": [
        " 0.862555301679\n"
       ]
      }
     ],
     "prompt_number": 18
    },
    {
     "cell_type": "code",
     "collapsed": false,
     "input": [
      "print sort(zip(clf_et.feature_importances_,boston.feature_names),axis=0)"
     ],
     "language": "python",
     "metadata": {},
     "outputs": [
      {
       "output_type": "stream",
       "stream": "stdout",
       "text": [
        "[['0.000207777732008' 'AGE']\n",
        " ['0.00214323299982' 'B']\n",
        " ['0.00308186606315' 'CHAS']\n",
        " ['0.00371760520544' 'CRIM']\n",
        " ['0.0051586111847' 'DIS']\n",
        " ['0.00666141762563' 'INDUS']\n",
        " ['0.0104442902284' 'LSTAT']\n",
        " ['0.0209040207497' 'NOX']\n",
        " ['0.0231915230579' 'PTRATIO']\n",
        " ['0.0829019637061' 'RAD']\n",
        " ['0.138417193015' 'RM']\n",
        " ['0.188401968087' 'TAX']\n",
        " ['0.514768530345' 'ZN']]\n"
       ]
      }
     ],
     "prompt_number": 19
    },
    {
     "cell_type": "markdown",
     "metadata": {},
     "source": [
      "Finally, evaluate our classifiers on the testing set"
     ]
    },
    {
     "cell_type": "code",
     "collapsed": false,
     "input": [
      "from sklearn import metrics\n",
      "def measure_performance(X,y,clf, show_accuracy=True, show_classification_report=True, show_confusion_matrix=True, show_r2_score=False):\n",
      "    y_pred=clf.predict(X)   \n",
      "    if show_accuracy:\n",
      "        print \"Accuracy:{0:.3f}\".format(metrics.accuracy_score(y,y_pred)),\"\\n\"\n",
      "\n",
      "    if show_classification_report:\n",
      "        print \"Classification report\"\n",
      "        print metrics.classification_report(y,y_pred),\"\\n\"\n",
      "        \n",
      "    if show_confusion_matrix:\n",
      "        print \"Confusion matrix\"\n",
      "        print metrics.confusion_matrix(y,y_pred),\"\\n\"\n",
      "        \n",
      "    if show_r2_score:\n",
      "        print \"Coefficient of determination:{0:.3f}\".format(metrics.r2_score(y,y_pred)),\"\\n\"\n",
      "\n",
      "        \n",
      "measure_performance(X_test,y_test,clf_et, show_accuracy=False, show_classification_report=False,show_confusion_matrix=False, show_r2_score=True)\n",
      "\n"
     ],
     "language": "python",
     "metadata": {},
     "outputs": [
      {
       "output_type": "stream",
       "stream": "stdout",
       "text": [
        "Coefficient of determination:0.791 \n",
        "\n"
       ]
      }
     ],
     "prompt_number": 20
    }
   ],
   "metadata": {}
  }
 ]
}